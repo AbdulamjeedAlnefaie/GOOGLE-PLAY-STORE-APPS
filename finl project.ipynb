{
 "cells": [
  {
   "cell_type": "code",
   "execution_count": 1,
   "id": "5b92b69b",
   "metadata": {},
   "outputs": [],
   "source": [
    "import pandas as pd  #Import library Pandas\n",
    "import matplotlib.pyplot as plt #Import matplotlib \n",
    "import numpy as np #Import numpy Pandas\n",
    "import seaborn as sns #Import seaborn Pandas\n",
    "%matplotlib inline \n",
    "\n",
    "pd.set_option(\"display.float_format\",lambda x :\"%05f\" %x)"
   ]
  },
  {
   "cell_type": "code",
   "execution_count": 2,
   "id": "d3b7d617",
   "metadata": {},
   "outputs": [],
   "source": [
    "df=pd.read_csv(\"googleplaystore.csv\") #Read date "
   ]
  },
  {
   "cell_type": "code",
   "execution_count": 3,
   "id": "9803d69b",
   "metadata": {},
   "outputs": [
    {
     "data": {
      "text/html": [
       "<div>\n",
       "<style scoped>\n",
       "    .dataframe tbody tr th:only-of-type {\n",
       "        vertical-align: middle;\n",
       "    }\n",
       "\n",
       "    .dataframe tbody tr th {\n",
       "        vertical-align: top;\n",
       "    }\n",
       "\n",
       "    .dataframe thead th {\n",
       "        text-align: right;\n",
       "    }\n",
       "</style>\n",
       "<table border=\"1\" class=\"dataframe\">\n",
       "  <thead>\n",
       "    <tr style=\"text-align: right;\">\n",
       "      <th></th>\n",
       "      <th>App</th>\n",
       "      <th>Category</th>\n",
       "      <th>Rating</th>\n",
       "      <th>Reviews</th>\n",
       "      <th>Size</th>\n",
       "      <th>Installs</th>\n",
       "      <th>Type</th>\n",
       "      <th>Price</th>\n",
       "      <th>Content Rating</th>\n",
       "      <th>Genres</th>\n",
       "      <th>Last Updated</th>\n",
       "      <th>Current Ver</th>\n",
       "      <th>Android Ver</th>\n",
       "    </tr>\n",
       "  </thead>\n",
       "  <tbody>\n",
       "    <tr>\n",
       "      <th>0</th>\n",
       "      <td>Photo Editor &amp; Candy Camera &amp; Grid &amp; ScrapBook</td>\n",
       "      <td>ART_AND_DESIGN</td>\n",
       "      <td>4.100000</td>\n",
       "      <td>159</td>\n",
       "      <td>19M</td>\n",
       "      <td>10,000+</td>\n",
       "      <td>Free</td>\n",
       "      <td>0</td>\n",
       "      <td>Everyone</td>\n",
       "      <td>Art &amp; Design</td>\n",
       "      <td>January 7, 2018</td>\n",
       "      <td>1.0.0</td>\n",
       "      <td>4.0.3 and up</td>\n",
       "    </tr>\n",
       "    <tr>\n",
       "      <th>1</th>\n",
       "      <td>Coloring book moana</td>\n",
       "      <td>ART_AND_DESIGN</td>\n",
       "      <td>3.900000</td>\n",
       "      <td>967</td>\n",
       "      <td>14M</td>\n",
       "      <td>500,000+</td>\n",
       "      <td>Free</td>\n",
       "      <td>0</td>\n",
       "      <td>Everyone</td>\n",
       "      <td>Art &amp; Design;Pretend Play</td>\n",
       "      <td>January 15, 2018</td>\n",
       "      <td>2.0.0</td>\n",
       "      <td>4.0.3 and up</td>\n",
       "    </tr>\n",
       "    <tr>\n",
       "      <th>2</th>\n",
       "      <td>U Launcher Lite – FREE Live Cool Themes, Hide ...</td>\n",
       "      <td>ART_AND_DESIGN</td>\n",
       "      <td>4.700000</td>\n",
       "      <td>87510</td>\n",
       "      <td>8.7M</td>\n",
       "      <td>5,000,000+</td>\n",
       "      <td>Free</td>\n",
       "      <td>0</td>\n",
       "      <td>Everyone</td>\n",
       "      <td>Art &amp; Design</td>\n",
       "      <td>August 1, 2018</td>\n",
       "      <td>1.2.4</td>\n",
       "      <td>4.0.3 and up</td>\n",
       "    </tr>\n",
       "    <tr>\n",
       "      <th>3</th>\n",
       "      <td>Sketch - Draw &amp; Paint</td>\n",
       "      <td>ART_AND_DESIGN</td>\n",
       "      <td>4.500000</td>\n",
       "      <td>215644</td>\n",
       "      <td>25M</td>\n",
       "      <td>50,000,000+</td>\n",
       "      <td>Free</td>\n",
       "      <td>0</td>\n",
       "      <td>Teen</td>\n",
       "      <td>Art &amp; Design</td>\n",
       "      <td>June 8, 2018</td>\n",
       "      <td>Varies with device</td>\n",
       "      <td>4.2 and up</td>\n",
       "    </tr>\n",
       "    <tr>\n",
       "      <th>4</th>\n",
       "      <td>Pixel Draw - Number Art Coloring Book</td>\n",
       "      <td>ART_AND_DESIGN</td>\n",
       "      <td>4.300000</td>\n",
       "      <td>967</td>\n",
       "      <td>2.8M</td>\n",
       "      <td>100,000+</td>\n",
       "      <td>Free</td>\n",
       "      <td>0</td>\n",
       "      <td>Everyone</td>\n",
       "      <td>Art &amp; Design;Creativity</td>\n",
       "      <td>June 20, 2018</td>\n",
       "      <td>1.1</td>\n",
       "      <td>4.4 and up</td>\n",
       "    </tr>\n",
       "  </tbody>\n",
       "</table>\n",
       "</div>"
      ],
      "text/plain": [
       "                                                 App        Category   Rating  \\\n",
       "0     Photo Editor & Candy Camera & Grid & ScrapBook  ART_AND_DESIGN 4.100000   \n",
       "1                                Coloring book moana  ART_AND_DESIGN 3.900000   \n",
       "2  U Launcher Lite – FREE Live Cool Themes, Hide ...  ART_AND_DESIGN 4.700000   \n",
       "3                              Sketch - Draw & Paint  ART_AND_DESIGN 4.500000   \n",
       "4              Pixel Draw - Number Art Coloring Book  ART_AND_DESIGN 4.300000   \n",
       "\n",
       "  Reviews  Size     Installs  Type Price Content Rating  \\\n",
       "0     159   19M      10,000+  Free     0       Everyone   \n",
       "1     967   14M     500,000+  Free     0       Everyone   \n",
       "2   87510  8.7M   5,000,000+  Free     0       Everyone   \n",
       "3  215644   25M  50,000,000+  Free     0           Teen   \n",
       "4     967  2.8M     100,000+  Free     0       Everyone   \n",
       "\n",
       "                      Genres      Last Updated         Current Ver  \\\n",
       "0               Art & Design   January 7, 2018               1.0.0   \n",
       "1  Art & Design;Pretend Play  January 15, 2018               2.0.0   \n",
       "2               Art & Design    August 1, 2018               1.2.4   \n",
       "3               Art & Design      June 8, 2018  Varies with device   \n",
       "4    Art & Design;Creativity     June 20, 2018                 1.1   \n",
       "\n",
       "    Android Ver  \n",
       "0  4.0.3 and up  \n",
       "1  4.0.3 and up  \n",
       "2  4.0.3 and up  \n",
       "3    4.2 and up  \n",
       "4    4.4 and up  "
      ]
     },
     "execution_count": 3,
     "metadata": {},
     "output_type": "execute_result"
    }
   ],
   "source": [
    "df.head() # Show the first five rows"
   ]
  },
  {
   "cell_type": "code",
   "execution_count": 4,
   "id": "3600080b",
   "metadata": {},
   "outputs": [
    {
     "name": "stdout",
     "output_type": "stream",
     "text": [
      "<class 'pandas.core.frame.DataFrame'>\n",
      "RangeIndex: 10841 entries, 0 to 10840\n",
      "Data columns (total 13 columns):\n",
      " #   Column          Non-Null Count  Dtype  \n",
      "---  ------          --------------  -----  \n",
      " 0   App             10841 non-null  object \n",
      " 1   Category        10841 non-null  object \n",
      " 2   Rating          9367 non-null   float64\n",
      " 3   Reviews         10841 non-null  object \n",
      " 4   Size            10841 non-null  object \n",
      " 5   Installs        10841 non-null  object \n",
      " 6   Type            10840 non-null  object \n",
      " 7   Price           10841 non-null  object \n",
      " 8   Content Rating  10840 non-null  object \n",
      " 9   Genres          10841 non-null  object \n",
      " 10  Last Updated    10841 non-null  object \n",
      " 11  Current Ver     10833 non-null  object \n",
      " 12  Android Ver     10838 non-null  object \n",
      "dtypes: float64(1), object(12)\n",
      "memory usage: 1.1+ MB\n"
     ]
    }
   ],
   "source": [
    "df.info() # informations data"
   ]
  },
  {
   "cell_type": "code",
   "execution_count": 5,
   "id": "4f76e9e5",
   "metadata": {},
   "outputs": [
    {
     "data": {
      "text/html": [
       "<div>\n",
       "<style scoped>\n",
       "    .dataframe tbody tr th:only-of-type {\n",
       "        vertical-align: middle;\n",
       "    }\n",
       "\n",
       "    .dataframe tbody tr th {\n",
       "        vertical-align: top;\n",
       "    }\n",
       "\n",
       "    .dataframe thead th {\n",
       "        text-align: right;\n",
       "    }\n",
       "</style>\n",
       "<table border=\"1\" class=\"dataframe\">\n",
       "  <thead>\n",
       "    <tr style=\"text-align: right;\">\n",
       "      <th></th>\n",
       "      <th>Rating</th>\n",
       "    </tr>\n",
       "  </thead>\n",
       "  <tbody>\n",
       "    <tr>\n",
       "      <th>count</th>\n",
       "      <td>9367.000000</td>\n",
       "    </tr>\n",
       "    <tr>\n",
       "      <th>mean</th>\n",
       "      <td>4.193338</td>\n",
       "    </tr>\n",
       "    <tr>\n",
       "      <th>std</th>\n",
       "      <td>0.537431</td>\n",
       "    </tr>\n",
       "    <tr>\n",
       "      <th>min</th>\n",
       "      <td>1.000000</td>\n",
       "    </tr>\n",
       "    <tr>\n",
       "      <th>25%</th>\n",
       "      <td>4.000000</td>\n",
       "    </tr>\n",
       "    <tr>\n",
       "      <th>50%</th>\n",
       "      <td>4.300000</td>\n",
       "    </tr>\n",
       "    <tr>\n",
       "      <th>75%</th>\n",
       "      <td>4.500000</td>\n",
       "    </tr>\n",
       "    <tr>\n",
       "      <th>max</th>\n",
       "      <td>19.000000</td>\n",
       "    </tr>\n",
       "  </tbody>\n",
       "</table>\n",
       "</div>"
      ],
      "text/plain": [
       "           Rating\n",
       "count 9367.000000\n",
       "mean     4.193338\n",
       "std      0.537431\n",
       "min      1.000000\n",
       "25%      4.000000\n",
       "50%      4.300000\n",
       "75%      4.500000\n",
       "max     19.000000"
      ]
     },
     "execution_count": 5,
     "metadata": {},
     "output_type": "execute_result"
    }
   ],
   "source": [
    "df.describe()   ##used to view some basic statistical "
   ]
  },
  {
   "cell_type": "code",
   "execution_count": 6,
   "id": "2c14ef73",
   "metadata": {},
   "outputs": [],
   "source": [
    "df.drop(\"Genres\",axis=1,inplace=True) ##drob unnecessary columns\n",
    "df.drop(\"Reviews\",axis=1,inplace=True)\n",
    "df.drop(\"Current Ver\",axis=1,inplace=True)"
   ]
  },
  {
   "cell_type": "code",
   "execution_count": 7,
   "id": "a7a0db6c",
   "metadata": {},
   "outputs": [
    {
     "data": {
      "text/plain": [
       "App                  0\n",
       "Category             0\n",
       "Rating            1474\n",
       "Size                 0\n",
       "Installs             0\n",
       "Type                 1\n",
       "Price                0\n",
       "Content Rating       1\n",
       "Last Updated         0\n",
       "Android Ver          3\n",
       "dtype: int64"
      ]
     },
     "execution_count": 7,
     "metadata": {},
     "output_type": "execute_result"
    }
   ],
   "source": [
    "df.isna().sum() #check nulls"
   ]
  },
  {
   "cell_type": "code",
   "execution_count": 8,
   "id": "8bb0131b",
   "metadata": {},
   "outputs": [],
   "source": [
    "df.Rating.fillna(0,inplace=True)  # All nAn coulm Rating =  zero ratings"
   ]
  },
  {
   "cell_type": "code",
   "execution_count": 9,
   "id": "04167b66",
   "metadata": {},
   "outputs": [],
   "source": [
    "df.dropna(inplace=True)  # #drob null values "
   ]
  },
  {
   "cell_type": "code",
   "execution_count": 10,
   "id": "a696811f",
   "metadata": {},
   "outputs": [],
   "source": [
    "df.Installs=df.Installs.str.replace(\",\",\"\") # Converting a object to a floot "
   ]
  },
  {
   "cell_type": "code",
   "execution_count": 11,
   "id": "ecaca316",
   "metadata": {},
   "outputs": [
    {
     "name": "stderr",
     "output_type": "stream",
     "text": [
      "<ipython-input-11-6b32a0fb489f>:1: FutureWarning: The default value of regex will change from True to False in a future version. In addition, single character regular expressions will*not* be treated as literal strings when regex=True.\n",
      "  df.Installs =df.Installs.str.replace(\"+\",\"\")  # Converting a object to a floot\n"
     ]
    }
   ],
   "source": [
    "df.Installs =df.Installs.str.replace(\"+\",\"\")  # Converting a object to a floot "
   ]
  },
  {
   "cell_type": "code",
   "execution_count": 12,
   "id": "fc34ef00",
   "metadata": {},
   "outputs": [],
   "source": [
    "df.Installs=df.Installs.astype(\"float\") # Installs == floot  change"
   ]
  },
  {
   "cell_type": "code",
   "execution_count": 13,
   "id": "d0fa0869",
   "metadata": {},
   "outputs": [
    {
     "name": "stderr",
     "output_type": "stream",
     "text": [
      "<ipython-input-13-15b90d9b2919>:1: FutureWarning: The default value of regex will change from True to False in a future version. In addition, single character regular expressions will*not* be treated as literal strings when regex=True.\n",
      "  df.Price =df.Price.str.replace(\"$\",\"\")\n"
     ]
    }
   ],
   "source": [
    "df.Price =df.Price.str.replace(\"$\",\"\")"
   ]
  },
  {
   "cell_type": "code",
   "execution_count": 14,
   "id": "cb47e124",
   "metadata": {},
   "outputs": [],
   "source": [
    "df.Price=df.Price.astype(\"float\")  # Price == floot change"
   ]
  },
  {
   "cell_type": "code",
   "execution_count": 15,
   "id": "d87a8633",
   "metadata": {},
   "outputs": [],
   "source": [
    "df.rename(columns={\"Last Updated\": \"LastUpdated\",\"Android Ver\": \"AndroidVer\",\"Content Rating\": \"ContentRating\"} ,inplace=True) # Column name change"
   ]
  },
  {
   "cell_type": "code",
   "execution_count": 16,
   "id": "b5e234ad",
   "metadata": {},
   "outputs": [],
   "source": [
    "df[\"LastUpdated\"]=pd.to_datetime(df[\"LastUpdated\"]) # object == data change\n"
   ]
  },
  {
   "cell_type": "code",
   "execution_count": 17,
   "id": "8b0fdd26",
   "metadata": {},
   "outputs": [],
   "source": [
    "df['LastUpdated'] = df['LastUpdated'].dt.year # change y-m-h ==> yrar"
   ]
  },
  {
   "cell_type": "markdown",
   "id": "35f4f92f",
   "metadata": {},
   "source": [
    "#  Q1 :The highest Content Rating is it Free or paid?"
   ]
  },
  {
   "cell_type": "code",
   "execution_count": 18,
   "id": "e76feb2f",
   "metadata": {},
   "outputs": [
    {
     "data": {
      "text/plain": [
       "Free    10038\n",
       "Paid      799\n",
       "Name: Type, dtype: int64"
      ]
     },
     "execution_count": 18,
     "metadata": {},
     "output_type": "execute_result"
    }
   ],
   "source": [
    "df.Type.value_counts() # Paid and free account"
   ]
  },
  {
   "cell_type": "code",
   "execution_count": 19,
   "id": "8146642c",
   "metadata": {},
   "outputs": [],
   "source": [
    "d = df.groupby([\"ContentRating\",\"Type\"])[\"App\"].count().reset_index().sort_values(by=\"App\",ascending=False) # Total number of applications for each content"
   ]
  },
  {
   "cell_type": "code",
   "execution_count": 20,
   "id": "11ef1482",
   "metadata": {},
   "outputs": [],
   "source": [
    "paid=d[d[\"Type\"]==\"Paid\"]   #Equal the value of the payment with the type"
   ]
  },
  {
   "cell_type": "code",
   "execution_count": 21,
   "id": "71a88869",
   "metadata": {},
   "outputs": [
    {
     "data": {
      "text/html": [
       "<div>\n",
       "<style scoped>\n",
       "    .dataframe tbody tr th:only-of-type {\n",
       "        vertical-align: middle;\n",
       "    }\n",
       "\n",
       "    .dataframe tbody tr th {\n",
       "        vertical-align: top;\n",
       "    }\n",
       "\n",
       "    .dataframe thead th {\n",
       "        text-align: right;\n",
       "    }\n",
       "</style>\n",
       "<table border=\"1\" class=\"dataframe\">\n",
       "  <thead>\n",
       "    <tr style=\"text-align: right;\">\n",
       "      <th></th>\n",
       "      <th>Type</th>\n",
       "      <th>App</th>\n",
       "    </tr>\n",
       "    <tr>\n",
       "      <th>ContentRating</th>\n",
       "      <th></th>\n",
       "      <th></th>\n",
       "    </tr>\n",
       "  </thead>\n",
       "  <tbody>\n",
       "    <tr>\n",
       "      <th>Everyone</th>\n",
       "      <td>Paid</td>\n",
       "      <td>694</td>\n",
       "    </tr>\n",
       "    <tr>\n",
       "      <th>Teen</th>\n",
       "      <td>Paid</td>\n",
       "      <td>52</td>\n",
       "    </tr>\n",
       "    <tr>\n",
       "      <th>Everyone 10+</th>\n",
       "      <td>Paid</td>\n",
       "      <td>33</td>\n",
       "    </tr>\n",
       "    <tr>\n",
       "      <th>Mature 17+</th>\n",
       "      <td>Paid</td>\n",
       "      <td>20</td>\n",
       "    </tr>\n",
       "  </tbody>\n",
       "</table>\n",
       "</div>"
      ],
      "text/plain": [
       "               Type  App\n",
       "ContentRating           \n",
       "Everyone       Paid  694\n",
       "Teen           Paid   52\n",
       "Everyone 10+   Paid   33\n",
       "Mature 17+     Paid   20"
      ]
     },
     "execution_count": 21,
     "metadata": {},
     "output_type": "execute_result"
    }
   ],
   "source": [
    "paid.set_index([\"ContentRating\"])  # Paid account"
   ]
  },
  {
   "cell_type": "code",
   "execution_count": 22,
   "id": "3adcd596",
   "metadata": {},
   "outputs": [
    {
     "data": {
      "text/plain": [
       "ContentRating    EveryoneTeenEveryone 10+Mature 17+\n",
       "Type                               PaidPaidPaidPaid\n",
       "App                                             799\n",
       "dtype: object"
      ]
     },
     "execution_count": 22,
     "metadata": {},
     "output_type": "execute_result"
    }
   ],
   "source": [
    "paid.sum() # Total Paid"
   ]
  },
  {
   "cell_type": "code",
   "execution_count": 23,
   "id": "33ca3642",
   "metadata": {},
   "outputs": [],
   "source": [
    "free=d[d[\"Type\"]==\"Free\"]  #Equal the value of the   free with the type"
   ]
  },
  {
   "cell_type": "code",
   "execution_count": 24,
   "id": "2677c09e",
   "metadata": {},
   "outputs": [
    {
     "data": {
      "text/html": [
       "<div>\n",
       "<style scoped>\n",
       "    .dataframe tbody tr th:only-of-type {\n",
       "        vertical-align: middle;\n",
       "    }\n",
       "\n",
       "    .dataframe tbody tr th {\n",
       "        vertical-align: top;\n",
       "    }\n",
       "\n",
       "    .dataframe thead th {\n",
       "        text-align: right;\n",
       "    }\n",
       "</style>\n",
       "<table border=\"1\" class=\"dataframe\">\n",
       "  <thead>\n",
       "    <tr style=\"text-align: right;\">\n",
       "      <th></th>\n",
       "      <th>ContentRating</th>\n",
       "      <th>Type</th>\n",
       "      <th>App</th>\n",
       "    </tr>\n",
       "  </thead>\n",
       "  <tbody>\n",
       "    <tr>\n",
       "      <th>1</th>\n",
       "      <td>Everyone</td>\n",
       "      <td>Free</td>\n",
       "      <td>8018</td>\n",
       "    </tr>\n",
       "    <tr>\n",
       "      <th>7</th>\n",
       "      <td>Teen</td>\n",
       "      <td>Free</td>\n",
       "      <td>1156</td>\n",
       "    </tr>\n",
       "    <tr>\n",
       "      <th>5</th>\n",
       "      <td>Mature 17+</td>\n",
       "      <td>Free</td>\n",
       "      <td>479</td>\n",
       "    </tr>\n",
       "    <tr>\n",
       "      <th>3</th>\n",
       "      <td>Everyone 10+</td>\n",
       "      <td>Free</td>\n",
       "      <td>380</td>\n",
       "    </tr>\n",
       "    <tr>\n",
       "      <th>0</th>\n",
       "      <td>Adults only 18+</td>\n",
       "      <td>Free</td>\n",
       "      <td>3</td>\n",
       "    </tr>\n",
       "    <tr>\n",
       "      <th>9</th>\n",
       "      <td>Unrated</td>\n",
       "      <td>Free</td>\n",
       "      <td>2</td>\n",
       "    </tr>\n",
       "  </tbody>\n",
       "</table>\n",
       "</div>"
      ],
      "text/plain": [
       "     ContentRating  Type   App\n",
       "1         Everyone  Free  8018\n",
       "7             Teen  Free  1156\n",
       "5       Mature 17+  Free   479\n",
       "3     Everyone 10+  Free   380\n",
       "0  Adults only 18+  Free     3\n",
       "9          Unrated  Free     2"
      ]
     },
     "execution_count": 24,
     "metadata": {},
     "output_type": "execute_result"
    }
   ],
   "source": [
    "free"
   ]
  },
  {
   "cell_type": "code",
   "execution_count": 25,
   "id": "5a9e9bad",
   "metadata": {},
   "outputs": [
    {
     "data": {
      "text/plain": [
       "Index(['Free', 'Paid'], dtype='object')"
      ]
     },
     "execution_count": 25,
     "metadata": {},
     "output_type": "execute_result"
    }
   ],
   "source": [
    "f=df[\"Type\"].value_counts()\n",
    "f.index\n"
   ]
  },
  {
   "cell_type": "code",
   "execution_count": 26,
   "id": "6c2c02fa",
   "metadata": {},
   "outputs": [
    {
     "data": {
      "image/png": "[encoded data removed]",
      "text/plain": [
       "<Figure size 720x360 with 1 Axes>"
      ]
     },
     "metadata": {
      "needs_background": "light"
     },
     "output_type": "display_data"
    }
   ],
   "source": [
    "plt.figure(figsize = [10,5])# this for size of the chart\n",
    "plt.suptitle('Free and paid content rating',fontsize = 16 , color='k' )\n",
    "sns.countplot(data=df , x=\"Type\" ,hue = \"ContentRating\", order = f.index);"
   ]
  },
  {
   "cell_type": "markdown",
   "id": "95d56fc8",
   "metadata": {},
   "source": [
    "# Q2 : What are the most downloaded categories?\n"
   ]
  },
  {
   "cell_type": "code",
   "execution_count": 27,
   "id": "f41676bd",
   "metadata": {},
   "outputs": [
    {
     "data": {
      "text/html": [
       "<div>\n",
       "<style scoped>\n",
       "    .dataframe tbody tr th:only-of-type {\n",
       "        vertical-align: middle;\n",
       "    }\n",
       "\n",
       "    .dataframe tbody tr th {\n",
       "        vertical-align: top;\n",
       "    }\n",
       "\n",
       "    .dataframe thead th {\n",
       "        text-align: right;\n",
       "    }\n",
       "</style>\n",
       "<table border=\"1\" class=\"dataframe\">\n",
       "  <thead>\n",
       "    <tr style=\"text-align: right;\">\n",
       "      <th></th>\n",
       "      <th>Category</th>\n",
       "      <th>Installs</th>\n",
       "    </tr>\n",
       "  </thead>\n",
       "  <tbody>\n",
       "    <tr>\n",
       "      <th>11</th>\n",
       "      <td>FAMILY</td>\n",
       "      <td>1971</td>\n",
       "    </tr>\n",
       "    <tr>\n",
       "      <th>14</th>\n",
       "      <td>GAME</td>\n",
       "      <td>1144</td>\n",
       "    </tr>\n",
       "    <tr>\n",
       "      <th>29</th>\n",
       "      <td>TOOLS</td>\n",
       "      <td>843</td>\n",
       "    </tr>\n",
       "    <tr>\n",
       "      <th>20</th>\n",
       "      <td>MEDICAL</td>\n",
       "      <td>463</td>\n",
       "    </tr>\n",
       "    <tr>\n",
       "      <th>4</th>\n",
       "      <td>BUSINESS</td>\n",
       "      <td>460</td>\n",
       "    </tr>\n",
       "  </tbody>\n",
       "</table>\n",
       "</div>"
      ],
      "text/plain": [
       "    Category  Installs\n",
       "11    FAMILY      1971\n",
       "14      GAME      1144\n",
       "29     TOOLS       843\n",
       "20   MEDICAL       463\n",
       "4   BUSINESS       460"
      ]
     },
     "execution_count": 27,
     "metadata": {},
     "output_type": "execute_result"
    }
   ],
   "source": [
    "df.groupby([\"Category\"])[\"Installs\"].count().reset_index().sort_values(by=\"Installs\",ascending=False).head(5) # Number of downloads categories"
   ]
  },
  {
   "cell_type": "code",
   "execution_count": 28,
   "id": "b0f61a24",
   "metadata": {},
   "outputs": [],
   "source": [
    "top=df[\"Category\"].value_counts()"
   ]
  },
  {
   "cell_type": "code",
   "execution_count": 29,
   "id": "fc824e42",
   "metadata": {},
   "outputs": [
    {
     "data": {
      "image/png": "[encoded data removed]",
      "text/plain": [
       "<Figure size 720x1008 with 1 Axes>"
      ]
     },
     "metadata": {
      "needs_background": "light"
     },
     "output_type": "display_data"
    }
   ],
   "source": [
    "plt.title(\"Number of downloads categories\", fontsize = 16 , color='k') # To write Title \n",
    "plt.xlabel('number of downloads' , fontsize = 20 , color='#587275') # To write in x axis or modify\n",
    "plt.ylabel('Category', fontsize = 20 , color='#587275') # To write in y axis or modify\n",
    "top.plot(kind=\"barh\",figsize = [10,14]);"
   ]
  },
  {
   "cell_type": "markdown",
   "id": "5294c5bf",
   "metadata": {},
   "source": [
    "# Q3: What is the most downloaded version?\n"
   ]
  },
  {
   "cell_type": "code",
   "execution_count": 30,
   "id": "1e30a319",
   "metadata": {},
   "outputs": [
    {
     "data": {
      "text/plain": [
       "4.1 and up            2451\n",
       "4.0.3 and up          1501\n",
       "4.0 and up            1375\n",
       "Varies with device    1361\n",
       "4.4 and up             980\n",
       "2.3 and up             652\n",
       "5.0 and up             601\n",
       "4.2 and up             394\n",
       "2.3.3 and up           281\n",
       "2.2 and up             244\n",
       "4.3 and up             243\n",
       "3.0 and up             241\n",
       "2.1 and up             134\n",
       "1.6 and up             116\n",
       "6.0 and up              60\n",
       "7.0 and up              42\n",
       "3.2 and up              36\n",
       "2.0 and up              32\n",
       "5.1 and up              24\n",
       "1.5 and up              20\n",
       "4.4W and up             12\n",
       "3.1 and up              10\n",
       "2.0.1 and up             7\n",
       "8.0 and up               6\n",
       "7.1 and up               3\n",
       "4.0.3 - 7.1.1            2\n",
       "1.0 and up               2\n",
       "5.0 - 8.0                2\n",
       "2.2 - 7.1.1              1\n",
       "4.1 - 7.1.1              1\n",
       "5.0 - 6.0                1\n",
       "5.0 - 7.1.1              1\n",
       "7.0 - 7.1.1              1\n",
       "Name: AndroidVer, dtype: int64"
      ]
     },
     "execution_count": 30,
     "metadata": {},
     "output_type": "execute_result"
    }
   ],
   "source": [
    "df[df[\"Installs\"]==df.Installs][\"AndroidVer\"].value_counts() # The number of versions downloaded"
   ]
  },
  {
   "cell_type": "code",
   "execution_count": 31,
   "id": "ecd4d20e",
   "metadata": {},
   "outputs": [
    {
     "data": {
      "image/png": "[encoded data removed]",
      "text/plain": [
       "<Figure size 720x504 with 1 Axes>"
      ]
     },
     "metadata": {
      "needs_background": "light"
     },
     "output_type": "display_data"
    }
   ],
   "source": [
    "plt.title(\"Number of downloads categories\", fontsize = 16 ) \n",
    "plt.xlabel('Number of software downloads for version',  fontsize = 16, color='#587275')# To write in x axis or modify\n",
    "plt.ylabel('Which versions have been downloaded', fontsize = 16, color='#587275')# To write in y axis or modify\n",
    "top1 =df.AndroidVer.value_counts()\n",
    "top1.plot(kind=\"barh\",figsize = [10,7]);"
   ]
  },
  {
   "cell_type": "markdown",
   "id": "975b6cfd",
   "metadata": {},
   "source": [
    "# Q4: what the most download years  ?\n"
   ]
  },
  {
   "cell_type": "code",
   "execution_count": 32,
   "id": "650cde36",
   "metadata": {},
   "outputs": [
    {
     "data": {
      "text/html": [
       "<div>\n",
       "<style scoped>\n",
       "    .dataframe tbody tr th:only-of-type {\n",
       "        vertical-align: middle;\n",
       "    }\n",
       "\n",
       "    .dataframe tbody tr th {\n",
       "        vertical-align: top;\n",
       "    }\n",
       "\n",
       "    .dataframe thead th {\n",
       "        text-align: right;\n",
       "    }\n",
       "</style>\n",
       "<table border=\"1\" class=\"dataframe\">\n",
       "  <thead>\n",
       "    <tr style=\"text-align: right;\">\n",
       "      <th></th>\n",
       "      <th>LastUpdated</th>\n",
       "      <th>Installs</th>\n",
       "    </tr>\n",
       "  </thead>\n",
       "  <tbody>\n",
       "    <tr>\n",
       "      <th>8</th>\n",
       "      <td>2018</td>\n",
       "      <td>7346</td>\n",
       "    </tr>\n",
       "    <tr>\n",
       "      <th>7</th>\n",
       "      <td>2017</td>\n",
       "      <td>1867</td>\n",
       "    </tr>\n",
       "    <tr>\n",
       "      <th>6</th>\n",
       "      <td>2016</td>\n",
       "      <td>804</td>\n",
       "    </tr>\n",
       "    <tr>\n",
       "      <th>5</th>\n",
       "      <td>2015</td>\n",
       "      <td>459</td>\n",
       "    </tr>\n",
       "    <tr>\n",
       "      <th>4</th>\n",
       "      <td>2014</td>\n",
       "      <td>209</td>\n",
       "    </tr>\n",
       "    <tr>\n",
       "      <th>3</th>\n",
       "      <td>2013</td>\n",
       "      <td>110</td>\n",
       "    </tr>\n",
       "    <tr>\n",
       "      <th>2</th>\n",
       "      <td>2012</td>\n",
       "      <td>26</td>\n",
       "    </tr>\n",
       "    <tr>\n",
       "      <th>1</th>\n",
       "      <td>2011</td>\n",
       "      <td>15</td>\n",
       "    </tr>\n",
       "    <tr>\n",
       "      <th>0</th>\n",
       "      <td>2010</td>\n",
       "      <td>1</td>\n",
       "    </tr>\n",
       "  </tbody>\n",
       "</table>\n",
       "</div>"
      ],
      "text/plain": [
       "   LastUpdated  Installs\n",
       "8         2018      7346\n",
       "7         2017      1867\n",
       "6         2016       804\n",
       "5         2015       459\n",
       "4         2014       209\n",
       "3         2013       110\n",
       "2         2012        26\n",
       "1         2011        15\n",
       "0         2010         1"
      ]
     },
     "execution_count": 32,
     "metadata": {},
     "output_type": "execute_result"
    }
   ],
   "source": [
    "df.groupby([\"LastUpdated\"])[\"Installs\"].count().reset_index().sort_values(by=\"Installs\",ascending=False) # Download number per year"
   ]
  },
  {
   "cell_type": "code",
   "execution_count": 33,
   "id": "c0da1ecb",
   "metadata": {},
   "outputs": [],
   "source": [
    "X=df.groupby([\"LastUpdated\"])[\"Price\"].sum().reset_index().sort_values(by=\"Price\",ascending=False)"
   ]
  },
  {
   "cell_type": "code",
   "execution_count": 34,
   "id": "e211d586",
   "metadata": {},
   "outputs": [],
   "source": [
    "aa = df.LastUpdated\n",
    "y1 =df.Price"
   ]
  },
  {
   "cell_type": "code",
   "execution_count": 35,
   "id": "8ee60ffa",
   "metadata": {},
   "outputs": [
    {
     "data": {
      "text/plain": [
       "Text(0, 0.5, 'The number of download')"
      ]
     },
     "execution_count": 35,
     "metadata": {},
     "output_type": "execute_result"
    },
    {
     "data": {
      "image/png": "[encoded data removed]",
      "text/plain": [
       "<Figure size 720x504 with 1 Axes>"
      ]
     },
     "metadata": {
      "needs_background": "light"
     },
     "output_type": "display_data"
    }
   ],
   "source": [
    "\n",
    "\n",
    "\n",
    "\n",
    "#sns.countplot(data=df , x=\"LastUpdated\" , order = IN_DATA.index);\n",
    "plt.figure(figsize = [10,7])\n",
    "plt.grid()\n",
    "plt.plot(X[\"LastUpdated\"],X['Price'])\n",
    "plt.title(\"Number of downloads a year\", fontsize = 16)# To write Title \n",
    "plt.xlabel(\"The years it was updated\", fontsize = 16 , color='#587275')# To write in x axis or modify\n",
    "plt.ylabel('The number of download', fontsize = 16  , color='#587275' )# To write in y axis or modify\n"
   ]
  },
  {
   "cell_type": "markdown",
   "id": "aafe7d6f",
   "metadata": {},
   "source": [
    "# Q5: What is the most paid category?"
   ]
  },
  {
   "cell_type": "code",
   "execution_count": 36,
   "id": "4f5716bf",
   "metadata": {},
   "outputs": [],
   "source": [
    "z= df.groupby([\"Category\"])[\"Price\"].sum().reset_index().sort_values(by=\"Price\",ascending=False) #Calculate the number of profits for each content"
   ]
  },
  {
   "cell_type": "code",
   "execution_count": 37,
   "id": "22c66503",
   "metadata": {},
   "outputs": [
    {
     "data": {
      "text/html": [
       "<div>\n",
       "<style scoped>\n",
       "    .dataframe tbody tr th:only-of-type {\n",
       "        vertical-align: middle;\n",
       "    }\n",
       "\n",
       "    .dataframe tbody tr th {\n",
       "        vertical-align: top;\n",
       "    }\n",
       "\n",
       "    .dataframe thead th {\n",
       "        text-align: right;\n",
       "    }\n",
       "</style>\n",
       "<table border=\"1\" class=\"dataframe\">\n",
       "  <thead>\n",
       "    <tr style=\"text-align: right;\">\n",
       "      <th></th>\n",
       "      <th>Category</th>\n",
       "      <th>Price</th>\n",
       "    </tr>\n",
       "  </thead>\n",
       "  <tbody>\n",
       "    <tr>\n",
       "      <th>12</th>\n",
       "      <td>FINANCE</td>\n",
       "      <td>2900.830000</td>\n",
       "    </tr>\n",
       "    <tr>\n",
       "      <th>11</th>\n",
       "      <td>FAMILY</td>\n",
       "      <td>2434.780000</td>\n",
       "    </tr>\n",
       "    <tr>\n",
       "      <th>18</th>\n",
       "      <td>LIFESTYLE</td>\n",
       "      <td>2360.870000</td>\n",
       "    </tr>\n",
       "    <tr>\n",
       "      <th>20</th>\n",
       "      <td>MEDICAL</td>\n",
       "      <td>1439.960000</td>\n",
       "    </tr>\n",
       "    <tr>\n",
       "      <th>14</th>\n",
       "      <td>GAME</td>\n",
       "      <td>287.300000</td>\n",
       "    </tr>\n",
       "  </tbody>\n",
       "</table>\n",
       "</div>"
      ],
      "text/plain": [
       "     Category       Price\n",
       "12    FINANCE 2900.830000\n",
       "11     FAMILY 2434.780000\n",
       "18  LIFESTYLE 2360.870000\n",
       "20    MEDICAL 1439.960000\n",
       "14       GAME  287.300000"
      ]
     },
     "execution_count": 37,
     "metadata": {},
     "output_type": "execute_result"
    }
   ],
   "source": [
    "z.head() #Show "
   ]
  },
  {
   "cell_type": "code",
   "execution_count": 38,
   "id": "522007b5",
   "metadata": {},
   "outputs": [
    {
     "data": {
      "image/png": "[encoded data removed]",
      "text/plain": [
       "<Figure size 1440x504 with 1 Axes>"
      ]
     },
     "metadata": {
      "needs_background": "light"
     },
     "output_type": "display_data"
    }
   ],
   "source": [
    "plt.figure(figsize = [20,7])# this for size of the chart\n",
    "plt.grid()\n",
    "plt.plot(z['Category'],z['Price'])\n",
    "plt.title(\"Profits from each category\", fontsize = 20 )# To write Title \n",
    "plt.ylabel('The profits of categories', fontsize = 16, color='#587275' )# To write in y axis or modify\n",
    "plt.xlabel('Category', fontsize = 16, color='#587275')# To write in x axis or modify\n",
    "plt.xticks(rotation=90); # To write in x axis or modify"
   ]
  },
  {
   "cell_type": "markdown",
   "id": "de79b01c",
   "metadata": {},
   "source": [
    "# Q6 : What are the most rated categories?  "
   ]
  },
  {
   "cell_type": "code",
   "execution_count": 39,
   "id": "a9171c55",
   "metadata": {},
   "outputs": [],
   "source": [
    "X=df.groupby([\"Category\"])[\"Rating\"].sum().reset_index().sort_values(by=\"Category\",ascending=False ) #Calculate the most rated categories"
   ]
  },
  {
   "cell_type": "code",
   "execution_count": 40,
   "id": "21240aa8",
   "metadata": {},
   "outputs": [
    {
     "data": {
      "text/plain": [
       "Int64Index([32, 31, 30, 29, 28, 27, 26, 25, 24, 23, 22, 21, 20, 19, 18, 17, 16,\n",
       "            15, 14, 13, 12, 11, 10,  9,  8,  7,  6,  5,  4,  3,  2,  1,  0],\n",
       "           dtype='int64')"
      ]
     },
     "execution_count": 40,
     "metadata": {},
     "output_type": "execute_result"
    }
   ],
   "source": [
    "X.index"
   ]
  },
  {
   "cell_type": "code",
   "execution_count": 41,
   "id": "65c31e7e",
   "metadata": {},
   "outputs": [
    {
     "data": {
      "image/png": "[encoded data removed]",
      "text/plain": [
       "<Figure size 1080x576 with 1 Axes>"
      ]
     },
     "metadata": {
      "needs_background": "light"
     },
     "output_type": "display_data"
    }
   ],
   "source": [
    "plt.figure(figsize = [15,8])# this for size of the chart\n",
    "plt.grid()\n",
    "sns.barplot(data =X , x= \"Rating\" , y= 'Category')\n",
    "plt.title(\" Categories Ratings\", fontsize = 16  )# To write Title \n",
    "plt.ylabel('Reviews', fontsize = 16 , color='#587275')# To write in y axis or modify\n",
    "plt.xlabel(' Categories', fontsize = 16 ,  color='#587275'); # To write in x axis or modify"
   ]
  },
  {
   "cell_type": "code",
   "execution_count": 42,
   "id": "b4b9cb2c",
   "metadata": {},
   "outputs": [
    {
     "data": {
      "text/html": [
       "<div>\n",
       "<style scoped>\n",
       "    .dataframe tbody tr th:only-of-type {\n",
       "        vertical-align: middle;\n",
       "    }\n",
       "\n",
       "    .dataframe tbody tr th {\n",
       "        vertical-align: top;\n",
       "    }\n",
       "\n",
       "    .dataframe thead th {\n",
       "        text-align: right;\n",
       "    }\n",
       "</style>\n",
       "<table border=\"1\" class=\"dataframe\">\n",
       "  <thead>\n",
       "    <tr style=\"text-align: right;\">\n",
       "      <th></th>\n",
       "      <th>Category</th>\n",
       "      <th>Rating</th>\n",
       "    </tr>\n",
       "  </thead>\n",
       "  <tbody>\n",
       "    <tr>\n",
       "      <th>32</th>\n",
       "      <td>WEATHER</td>\n",
       "      <td>318.300000</td>\n",
       "    </tr>\n",
       "    <tr>\n",
       "      <th>31</th>\n",
       "      <td>VIDEO_PLAYERS</td>\n",
       "      <td>650.200000</td>\n",
       "    </tr>\n",
       "    <tr>\n",
       "      <th>30</th>\n",
       "      <td>TRAVEL_AND_LOCAL</td>\n",
       "      <td>928.700000</td>\n",
       "    </tr>\n",
       "    <tr>\n",
       "      <th>29</th>\n",
       "      <td>TOOLS</td>\n",
       "      <td>2970.800000</td>\n",
       "    </tr>\n",
       "    <tr>\n",
       "      <th>28</th>\n",
       "      <td>SPORTS</td>\n",
       "      <td>1347.300000</td>\n",
       "    </tr>\n",
       "    <tr>\n",
       "      <th>27</th>\n",
       "      <td>SOCIAL</td>\n",
       "      <td>1102.200000</td>\n",
       "    </tr>\n",
       "    <tr>\n",
       "      <th>26</th>\n",
       "      <td>SHOPPING</td>\n",
       "      <td>1013.800000</td>\n",
       "    </tr>\n",
       "    <tr>\n",
       "      <th>25</th>\n",
       "      <td>PRODUCTIVITY</td>\n",
       "      <td>1478.200000</td>\n",
       "    </tr>\n",
       "    <tr>\n",
       "      <th>24</th>\n",
       "      <td>PHOTOGRAPHY</td>\n",
       "      <td>1328.900000</td>\n",
       "    </tr>\n",
       "    <tr>\n",
       "      <th>23</th>\n",
       "      <td>PERSONALIZATION</td>\n",
       "      <td>1352.600000</td>\n",
       "    </tr>\n",
       "    <tr>\n",
       "      <th>22</th>\n",
       "      <td>PARENTING</td>\n",
       "      <td>215.000000</td>\n",
       "    </tr>\n",
       "    <tr>\n",
       "      <th>21</th>\n",
       "      <td>NEWS_AND_MAGAZINES</td>\n",
       "      <td>962.800000</td>\n",
       "    </tr>\n",
       "    <tr>\n",
       "      <th>20</th>\n",
       "      <td>MEDICAL</td>\n",
       "      <td>1466.200000</td>\n",
       "    </tr>\n",
       "    <tr>\n",
       "      <th>19</th>\n",
       "      <td>MAPS_AND_NAVIGATION</td>\n",
       "      <td>502.400000</td>\n",
       "    </tr>\n",
       "    <tr>\n",
       "      <th>18</th>\n",
       "      <td>LIFESTYLE</td>\n",
       "      <td>1285.800000</td>\n",
       "    </tr>\n",
       "    <tr>\n",
       "      <th>17</th>\n",
       "      <td>LIBRARIES_AND_DEMO</td>\n",
       "      <td>271.600000</td>\n",
       "    </tr>\n",
       "    <tr>\n",
       "      <th>16</th>\n",
       "      <td>HOUSE_AND_HOME</td>\n",
       "      <td>319.000000</td>\n",
       "    </tr>\n",
       "    <tr>\n",
       "      <th>15</th>\n",
       "      <td>HEALTH_AND_FITNESS</td>\n",
       "      <td>1270.300000</td>\n",
       "    </tr>\n",
       "    <tr>\n",
       "      <th>14</th>\n",
       "      <td>GAME</td>\n",
       "      <td>4702.100000</td>\n",
       "    </tr>\n",
       "    <tr>\n",
       "      <th>13</th>\n",
       "      <td>FOOD_AND_DRINK</td>\n",
       "      <td>454.200000</td>\n",
       "    </tr>\n",
       "    <tr>\n",
       "      <th>12</th>\n",
       "      <td>FINANCE</td>\n",
       "      <td>1334.600000</td>\n",
       "    </tr>\n",
       "    <tr>\n",
       "      <th>11</th>\n",
       "      <td>FAMILY</td>\n",
       "      <td>7323.900000</td>\n",
       "    </tr>\n",
       "    <tr>\n",
       "      <th>10</th>\n",
       "      <td>EVENTS</td>\n",
       "      <td>199.600000</td>\n",
       "    </tr>\n",
       "    <tr>\n",
       "      <th>9</th>\n",
       "      <td>ENTERTAINMENT</td>\n",
       "      <td>614.800000</td>\n",
       "    </tr>\n",
       "    <tr>\n",
       "      <th>8</th>\n",
       "      <td>EDUCATION</td>\n",
       "      <td>680.300000</td>\n",
       "    </tr>\n",
       "    <tr>\n",
       "      <th>7</th>\n",
       "      <td>DATING</td>\n",
       "      <td>774.300000</td>\n",
       "    </tr>\n",
       "    <tr>\n",
       "      <th>6</th>\n",
       "      <td>COMMUNICATION</td>\n",
       "      <td>1364.000000</td>\n",
       "    </tr>\n",
       "    <tr>\n",
       "      <th>5</th>\n",
       "      <td>COMICS</td>\n",
       "      <td>241.000000</td>\n",
       "    </tr>\n",
       "    <tr>\n",
       "      <th>4</th>\n",
       "      <td>BUSINESS</td>\n",
       "      <td>1248.800000</td>\n",
       "    </tr>\n",
       "    <tr>\n",
       "      <th>3</th>\n",
       "      <td>BOOKS_AND_REFERENCE</td>\n",
       "      <td>773.600000</td>\n",
       "    </tr>\n",
       "    <tr>\n",
       "      <th>2</th>\n",
       "      <td>BEAUTY</td>\n",
       "      <td>179.700000</td>\n",
       "    </tr>\n",
       "    <tr>\n",
       "      <th>1</th>\n",
       "      <td>AUTO_AND_VEHICLES</td>\n",
       "      <td>305.900000</td>\n",
       "    </tr>\n",
       "    <tr>\n",
       "      <th>0</th>\n",
       "      <td>ART_AND_DESIGN</td>\n",
       "      <td>270.200000</td>\n",
       "    </tr>\n",
       "  </tbody>\n",
       "</table>\n",
       "</div>"
      ],
      "text/plain": [
       "               Category      Rating\n",
       "32              WEATHER  318.300000\n",
       "31        VIDEO_PLAYERS  650.200000\n",
       "30     TRAVEL_AND_LOCAL  928.700000\n",
       "29                TOOLS 2970.800000\n",
       "28               SPORTS 1347.300000\n",
       "27               SOCIAL 1102.200000\n",
       "26             SHOPPING 1013.800000\n",
       "25         PRODUCTIVITY 1478.200000\n",
       "24          PHOTOGRAPHY 1328.900000\n",
       "23      PERSONALIZATION 1352.600000\n",
       "22            PARENTING  215.000000\n",
       "21   NEWS_AND_MAGAZINES  962.800000\n",
       "20              MEDICAL 1466.200000\n",
       "19  MAPS_AND_NAVIGATION  502.400000\n",
       "18            LIFESTYLE 1285.800000\n",
       "17   LIBRARIES_AND_DEMO  271.600000\n",
       "16       HOUSE_AND_HOME  319.000000\n",
       "15   HEALTH_AND_FITNESS 1270.300000\n",
       "14                 GAME 4702.100000\n",
       "13       FOOD_AND_DRINK  454.200000\n",
       "12              FINANCE 1334.600000\n",
       "11               FAMILY 7323.900000\n",
       "10               EVENTS  199.600000\n",
       "9         ENTERTAINMENT  614.800000\n",
       "8             EDUCATION  680.300000\n",
       "7                DATING  774.300000\n",
       "6         COMMUNICATION 1364.000000\n",
       "5                COMICS  241.000000\n",
       "4              BUSINESS 1248.800000\n",
       "3   BOOKS_AND_REFERENCE  773.600000\n",
       "2                BEAUTY  179.700000\n",
       "1     AUTO_AND_VEHICLES  305.900000\n",
       "0        ART_AND_DESIGN  270.200000"
      ]
     },
     "execution_count": 42,
     "metadata": {},
     "output_type": "execute_result"
    }
   ],
   "source": [
    "X"
   ]
  },
  {
   "cell_type": "code",
   "execution_count": 43,
   "id": "024bd601",
   "metadata": {},
   "outputs": [
    {
     "data": {
      "text/html": [
       "<div>\n",
       "<style scoped>\n",
       "    .dataframe tbody tr th:only-of-type {\n",
       "        vertical-align: middle;\n",
       "    }\n",
       "\n",
       "    .dataframe tbody tr th {\n",
       "        vertical-align: top;\n",
       "    }\n",
       "\n",
       "    .dataframe thead th {\n",
       "        text-align: right;\n",
       "    }\n",
       "</style>\n",
       "<table border=\"1\" class=\"dataframe\">\n",
       "  <thead>\n",
       "    <tr style=\"text-align: right;\">\n",
       "      <th></th>\n",
       "      <th>App</th>\n",
       "      <th>Category</th>\n",
       "      <th>Rating</th>\n",
       "      <th>Size</th>\n",
       "      <th>Installs</th>\n",
       "      <th>Type</th>\n",
       "      <th>Price</th>\n",
       "      <th>ContentRating</th>\n",
       "      <th>LastUpdated</th>\n",
       "      <th>AndroidVer</th>\n",
       "    </tr>\n",
       "  </thead>\n",
       "  <tbody>\n",
       "    <tr>\n",
       "      <th>0</th>\n",
       "      <td>Photo Editor &amp; Candy Camera &amp; Grid &amp; ScrapBook</td>\n",
       "      <td>ART_AND_DESIGN</td>\n",
       "      <td>4.100000</td>\n",
       "      <td>19M</td>\n",
       "      <td>10000.000000</td>\n",
       "      <td>Free</td>\n",
       "      <td>0.000000</td>\n",
       "      <td>Everyone</td>\n",
       "      <td>2018</td>\n",
       "      <td>4.0.3 and up</td>\n",
       "    </tr>\n",
       "    <tr>\n",
       "      <th>1</th>\n",
       "      <td>Coloring book moana</td>\n",
       "      <td>ART_AND_DESIGN</td>\n",
       "      <td>3.900000</td>\n",
       "      <td>14M</td>\n",
       "      <td>500000.000000</td>\n",
       "      <td>Free</td>\n",
       "      <td>0.000000</td>\n",
       "      <td>Everyone</td>\n",
       "      <td>2018</td>\n",
       "      <td>4.0.3 and up</td>\n",
       "    </tr>\n",
       "    <tr>\n",
       "      <th>2</th>\n",
       "      <td>U Launcher Lite – FREE Live Cool Themes, Hide ...</td>\n",
       "      <td>ART_AND_DESIGN</td>\n",
       "      <td>4.700000</td>\n",
       "      <td>8.7M</td>\n",
       "      <td>5000000.000000</td>\n",
       "      <td>Free</td>\n",
       "      <td>0.000000</td>\n",
       "      <td>Everyone</td>\n",
       "      <td>2018</td>\n",
       "      <td>4.0.3 and up</td>\n",
       "    </tr>\n",
       "    <tr>\n",
       "      <th>3</th>\n",
       "      <td>Sketch - Draw &amp; Paint</td>\n",
       "      <td>ART_AND_DESIGN</td>\n",
       "      <td>4.500000</td>\n",
       "      <td>25M</td>\n",
       "      <td>50000000.000000</td>\n",
       "      <td>Free</td>\n",
       "      <td>0.000000</td>\n",
       "      <td>Teen</td>\n",
       "      <td>2018</td>\n",
       "      <td>4.2 and up</td>\n",
       "    </tr>\n",
       "    <tr>\n",
       "      <th>4</th>\n",
       "      <td>Pixel Draw - Number Art Coloring Book</td>\n",
       "      <td>ART_AND_DESIGN</td>\n",
       "      <td>4.300000</td>\n",
       "      <td>2.8M</td>\n",
       "      <td>100000.000000</td>\n",
       "      <td>Free</td>\n",
       "      <td>0.000000</td>\n",
       "      <td>Everyone</td>\n",
       "      <td>2018</td>\n",
       "      <td>4.4 and up</td>\n",
       "    </tr>\n",
       "    <tr>\n",
       "      <th>...</th>\n",
       "      <td>...</td>\n",
       "      <td>...</td>\n",
       "      <td>...</td>\n",
       "      <td>...</td>\n",
       "      <td>...</td>\n",
       "      <td>...</td>\n",
       "      <td>...</td>\n",
       "      <td>...</td>\n",
       "      <td>...</td>\n",
       "      <td>...</td>\n",
       "    </tr>\n",
       "    <tr>\n",
       "      <th>10836</th>\n",
       "      <td>Sya9a Maroc - FR</td>\n",
       "      <td>FAMILY</td>\n",
       "      <td>4.500000</td>\n",
       "      <td>53M</td>\n",
       "      <td>5000.000000</td>\n",
       "      <td>Free</td>\n",
       "      <td>0.000000</td>\n",
       "      <td>Everyone</td>\n",
       "      <td>2017</td>\n",
       "      <td>4.1 and up</td>\n",
       "    </tr>\n",
       "    <tr>\n",
       "      <th>10837</th>\n",
       "      <td>Fr. Mike Schmitz Audio Teachings</td>\n",
       "      <td>FAMILY</td>\n",
       "      <td>5.000000</td>\n",
       "      <td>3.6M</td>\n",
       "      <td>100.000000</td>\n",
       "      <td>Free</td>\n",
       "      <td>0.000000</td>\n",
       "      <td>Everyone</td>\n",
       "      <td>2018</td>\n",
       "      <td>4.1 and up</td>\n",
       "    </tr>\n",
       "    <tr>\n",
       "      <th>10838</th>\n",
       "      <td>Parkinson Exercices FR</td>\n",
       "      <td>MEDICAL</td>\n",
       "      <td>0.000000</td>\n",
       "      <td>9.5M</td>\n",
       "      <td>1000.000000</td>\n",
       "      <td>Free</td>\n",
       "      <td>0.000000</td>\n",
       "      <td>Everyone</td>\n",
       "      <td>2017</td>\n",
       "      <td>2.2 and up</td>\n",
       "    </tr>\n",
       "    <tr>\n",
       "      <th>10839</th>\n",
       "      <td>The SCP Foundation DB fr nn5n</td>\n",
       "      <td>BOOKS_AND_REFERENCE</td>\n",
       "      <td>4.500000</td>\n",
       "      <td>Varies with device</td>\n",
       "      <td>1000.000000</td>\n",
       "      <td>Free</td>\n",
       "      <td>0.000000</td>\n",
       "      <td>Mature 17+</td>\n",
       "      <td>2015</td>\n",
       "      <td>Varies with device</td>\n",
       "    </tr>\n",
       "    <tr>\n",
       "      <th>10840</th>\n",
       "      <td>iHoroscope - 2018 Daily Horoscope &amp; Astrology</td>\n",
       "      <td>LIFESTYLE</td>\n",
       "      <td>4.500000</td>\n",
       "      <td>19M</td>\n",
       "      <td>10000000.000000</td>\n",
       "      <td>Free</td>\n",
       "      <td>0.000000</td>\n",
       "      <td>Everyone</td>\n",
       "      <td>2018</td>\n",
       "      <td>Varies with device</td>\n",
       "    </tr>\n",
       "  </tbody>\n",
       "</table>\n",
       "<p>10837 rows × 10 columns</p>\n",
       "</div>"
      ],
      "text/plain": [
       "                                                     App             Category  \\\n",
       "0         Photo Editor & Candy Camera & Grid & ScrapBook       ART_AND_DESIGN   \n",
       "1                                    Coloring book moana       ART_AND_DESIGN   \n",
       "2      U Launcher Lite – FREE Live Cool Themes, Hide ...       ART_AND_DESIGN   \n",
       "3                                  Sketch - Draw & Paint       ART_AND_DESIGN   \n",
       "4                  Pixel Draw - Number Art Coloring Book       ART_AND_DESIGN   \n",
       "...                                                  ...                  ...   \n",
       "10836                                   Sya9a Maroc - FR               FAMILY   \n",
       "10837                   Fr. Mike Schmitz Audio Teachings               FAMILY   \n",
       "10838                             Parkinson Exercices FR              MEDICAL   \n",
       "10839                      The SCP Foundation DB fr nn5n  BOOKS_AND_REFERENCE   \n",
       "10840      iHoroscope - 2018 Daily Horoscope & Astrology            LIFESTYLE   \n",
       "\n",
       "        Rating                Size        Installs  Type    Price  \\\n",
       "0     4.100000                 19M    10000.000000  Free 0.000000   \n",
       "1     3.900000                 14M   500000.000000  Free 0.000000   \n",
       "2     4.700000                8.7M  5000000.000000  Free 0.000000   \n",
       "3     4.500000                 25M 50000000.000000  Free 0.000000   \n",
       "4     4.300000                2.8M   100000.000000  Free 0.000000   \n",
       "...        ...                 ...             ...   ...      ...   \n",
       "10836 4.500000                 53M     5000.000000  Free 0.000000   \n",
       "10837 5.000000                3.6M      100.000000  Free 0.000000   \n",
       "10838 0.000000                9.5M     1000.000000  Free 0.000000   \n",
       "10839 4.500000  Varies with device     1000.000000  Free 0.000000   \n",
       "10840 4.500000                 19M 10000000.000000  Free 0.000000   \n",
       "\n",
       "      ContentRating  LastUpdated          AndroidVer  \n",
       "0          Everyone         2018        4.0.3 and up  \n",
       "1          Everyone         2018        4.0.3 and up  \n",
       "2          Everyone         2018        4.0.3 and up  \n",
       "3              Teen         2018          4.2 and up  \n",
       "4          Everyone         2018          4.4 and up  \n",
       "...             ...          ...                 ...  \n",
       "10836      Everyone         2017          4.1 and up  \n",
       "10837      Everyone         2018          4.1 and up  \n",
       "10838      Everyone         2017          2.2 and up  \n",
       "10839    Mature 17+         2015  Varies with device  \n",
       "10840      Everyone         2018  Varies with device  \n",
       "\n",
       "[10837 rows x 10 columns]"
      ]
     },
     "execution_count": 43,
     "metadata": {},
     "output_type": "execute_result"
    }
   ],
   "source": [
    "df"
   ]
  },
  {
   "cell_type": "code",
   "execution_count": null,
   "id": "98d477e9",
   "metadata": {},
   "outputs": [],
   "source": []
  }
 ],
 "metadata": {
  "kernelspec": {
   "display_name": "Python 3",
   "language": "python",
   "name": "python3"
  },
  "language_info": {
   "codemirror_mode": {
    "name": "ipython",
    "version": 3
   },
   "file_extension": ".py",
   "mimetype": "text/x-python",
   "name": "python",
   "nbconvert_exporter": "python",
   "pygments_lexer": "ipython3",
   "version": "3.8.8"
  }
 },
 "nbformat": 4,
 "nbformat_minor": 5
}
